{
 "cells": [
  {
   "cell_type": "code",
   "execution_count": 2,
   "id": "other-bouquet",
   "metadata": {},
   "outputs": [],
   "source": [
    "from keras.datasets import mnist\n",
    "from keras.layers import *\n",
    "from keras.layers.advanced_activations import LeakyReLU\n",
    "from keras.models import Sequential,Model\n",
    "from tensorflow.keras.optimizers import Adam\n",
    "\n",
    "import matplotlib.pyplot as plt\n",
    "import math\n",
    "import numpy as np"
   ]
  },
  {
   "cell_type": "code",
   "execution_count": 3,
   "id": "ready-capability",
   "metadata": {},
   "outputs": [],
   "source": [
    "(X_Train,_),(_,_) = mnist.load_data()  "
   ]
  },
  {
   "cell_type": "code",
   "execution_count": 4,
   "id": "opening-carol",
   "metadata": {},
   "outputs": [
    {
     "name": "stdout",
     "output_type": "stream",
     "text": [
      "(60000, 28, 28)\n",
      "<class 'numpy.ndarray'>\n",
      "(60000, 28, 28, 1)\n"
     ]
    }
   ],
   "source": [
    "print(X_Train.shape)\n",
    "print(type(X_Train))\n",
    "\n",
    "X_Train = X_Train.reshape((*(X_Train.shape),1))\n",
    "print(X_Train.shape)"
   ]
  },
  {
   "cell_type": "code",
   "execution_count": 5,
   "id": "ecological-spending",
   "metadata": {},
   "outputs": [
    {
     "name": "stdout",
     "output_type": "stream",
     "text": [
      "-1.0\n",
      "1.0\n"
     ]
    }
   ],
   "source": [
    "#Normalize the Data between -1 and 1\n",
    "\n",
    "X_Train = (X_Train.astype('float32') - 127.5)/127.5\n",
    "\n",
    "print(np.min(X_Train))\n",
    "print(np.max(X_Train))"
   ]
  },
  {
   "cell_type": "code",
   "execution_count": 7,
   "id": "olive-boating",
   "metadata": {},
   "outputs": [],
   "source": [
    "NUM_EPOCHS = 50\n",
    "BATCH_SIZE = 256\n",
    "NO_OF_BATCHES = math.ceil(X_Train.shape[0]/float(BATCH_SIZE))\n",
    "HALF_BATCH_SIZE = int(BATCH_SIZE/2)\n",
    "\n",
    "NOISE_DIM = 100\n",
    "\n",
    "adam = Adam(learning_rate=2e-4,beta_1=0.5)"
   ]
  },
  {
   "cell_type": "code",
   "execution_count": 8,
   "id": "focal-amendment",
   "metadata": {},
   "outputs": [
    {
     "name": "stdout",
     "output_type": "stream",
     "text": [
      "Model: \"sequential\"\n",
      "_________________________________________________________________\n",
      " Layer (type)                Output Shape              Param #   \n",
      "=================================================================\n",
      " dense (Dense)               (None, 6272)              633472    \n",
      "                                                                 \n",
      " reshape (Reshape)           (None, 7, 7, 128)         0         \n",
      "                                                                 \n",
      " leaky_re_lu (LeakyReLU)     (None, 7, 7, 128)         0         \n",
      "                                                                 \n",
      " batch_normalization (BatchN  (None, 7, 7, 128)        512       \n",
      " ormalization)                                                   \n",
      "                                                                 \n",
      " up_sampling2d (UpSampling2D  (None, 14, 14, 128)      0         \n",
      " )                                                               \n",
      "                                                                 \n",
      " conv2d (Conv2D)             (None, 14, 14, 64)        204864    \n",
      "                                                                 \n",
      " leaky_re_lu_1 (LeakyReLU)   (None, 14, 14, 64)        0         \n",
      "                                                                 \n",
      " batch_normalization_1 (Batc  (None, 14, 14, 64)       256       \n",
      " hNormalization)                                                 \n",
      "                                                                 \n",
      " up_sampling2d_1 (UpSampling  (None, 28, 28, 64)       0         \n",
      " 2D)                                                             \n",
      "                                                                 \n",
      " conv2d_1 (Conv2D)           (None, 28, 28, 1)         1601      \n",
      "                                                                 \n",
      "=================================================================\n",
      "Total params: 840,705\n",
      "Trainable params: 840,321\n",
      "Non-trainable params: 384\n",
      "_________________________________________________________________\n",
      "Model: \"sequential_1\"\n",
      "_________________________________________________________________\n",
      " Layer (type)                Output Shape              Param #   \n",
      "=================================================================\n",
      " conv2d_2 (Conv2D)           (None, 14, 14, 64)        1664      \n",
      "                                                                 \n",
      " leaky_re_lu_2 (LeakyReLU)   (None, 14, 14, 64)        0         \n",
      "                                                                 \n",
      " conv2d_3 (Conv2D)           (None, 7, 7, 128)         204928    \n",
      "                                                                 \n",
      " leaky_re_lu_3 (LeakyReLU)   (None, 7, 7, 128)         0         \n",
      "                                                                 \n",
      " flatten (Flatten)           (None, 6272)              0         \n",
      "                                                                 \n",
      " dense_1 (Dense)             (None, 1)                 6273      \n",
      "                                                                 \n",
      "=================================================================\n",
      "Total params: 212,865\n",
      "Trainable params: 212,865\n",
      "Non-trainable params: 0\n",
      "_________________________________________________________________\n"
     ]
    }
   ],
   "source": [
    "#Upsampling \n",
    "# Start from 7 X 7 X 128\n",
    "generator = Sequential()\n",
    "generator.add(Dense(7*7*128,input_shape=(NOISE_DIM,)))\n",
    "generator.add(Reshape((7,7,128)))\n",
    "generator.add(LeakyReLU(0.2))\n",
    "generator.add(BatchNormalization())\n",
    "\n",
    "#Double the Activation Size 14 X 14 X 64\n",
    "generator.add(UpSampling2D())\n",
    "generator.add(Conv2D(64,kernel_size=(5,5),padding='same'))\n",
    "generator.add(LeakyReLU(0.2))\n",
    "generator.add(BatchNormalization())\n",
    "\n",
    "# Double the Activation Size 28 X 28 X 1\n",
    "generator.add(UpSampling2D())\n",
    "generator.add(Conv2D(1, kernel_size=(5, 5), padding='same', activation='tanh'))\n",
    "\n",
    "# Final Output (No ReLu or Batch Norm)\n",
    "generator.compile(loss='binary_crossentropy', optimizer=adam)\n",
    "generator.summary()\n",
    "\n",
    "\n",
    "\n",
    "#Discriminator - Downsampling\n",
    "discriminator = Sequential()\n",
    "discriminator.add(Conv2D(64,(5,5),strides=(2,2),padding='same',input_shape=(28,28,1)))\n",
    "discriminator.add(LeakyReLU(0.2))\n",
    "\n",
    "# Prefer Strided Convolutions over MaxPooling\n",
    "discriminator.add(Conv2D(128,(5,5),strides=(2,2),padding='same'))\n",
    "discriminator.add(LeakyReLU(0.2))\n",
    "\n",
    "\n",
    "discriminator.add(Flatten())\n",
    "discriminator.add(Dense(1,activation='sigmoid'))\n",
    "\n",
    "discriminator.compile(loss='binary_crossentropy',optimizer=adam)\n",
    "discriminator.summary()"
   ]
  },
  {
   "cell_type": "code",
   "execution_count": 10,
   "id": "informative-religion",
   "metadata": {},
   "outputs": [],
   "source": [
    "discriminator.trainable = False\n",
    "gan_input = Input(shape=(NOISE_DIM,))\n",
    "generated_img = generator(gan_input)\n",
    "gan_output = discriminator(generated_img)\n",
    "\n",
    "#Functional API\n",
    "model = Model(gan_input,gan_output)\n",
    "model.compile(loss='binary_crossentropy',optimizer=adam)\n",
    "\n",
    "def save_imgs(epoch,samples=100):\n",
    "    noise = np.random.normal(0,1,size=(samples,NOISE_DIM))\n",
    "    generated_imgs = generator.predict(noise)\n",
    "    generated_imgs = generated_imgs.reshape(samples,28,28)\n",
    "    \n",
    "    plt.figure(figsize=(10,10))\n",
    "    for i in range(samples):\n",
    "        plt.subplot(10,10,i+1)\n",
    "        plt.imshow(generated_imgs[i],interpolation='nearest',cmap='gray')\n",
    "        plt.axis('off')\n",
    "    plt.tight_layout()\n",
    "    plt.savefig('images/gan_output_epoch_{0}.png'.format(epoch+1))\n",
    "    plt.show()"
   ]
  },
  {
   "cell_type": "code",
   "execution_count": 11,
   "id": "unauthorized-aurora",
   "metadata": {},
   "outputs": [
    {
     "data": {
      "text/plain": [
       "(60000, 28, 28, 1)"
      ]
     },
     "execution_count": 11,
     "metadata": {},
     "output_type": "execute_result"
    }
   ],
   "source": [
    "X_Train.shape"
   ]
  },
  {
   "cell_type": "code",
   "execution_count": null,
   "id": "regulation-lobby",
   "metadata": {},
   "outputs": [],
   "source": [
    "for epoch in range(NUM_EPOCHS):\n",
    "    epoch_d_loss = 0.\n",
    "    epoch_g_loss = 0.\n",
    "    \n",
    "    for step in range(NO_OF_BATCHES):\n",
    "        #randomly select 50% real images\n",
    "        idx = np.random.randint(0,X_Train.shape[0],HALF_BATCH_SIZE)\n",
    "        real_imgs = X_Train[idx]\n",
    "        \n",
    "        # generate 50% random images\n",
    "        noise = np.random.normal(0,1,size=(HALF_BATCH_SIZE,NOISE_DIM))\n",
    "        fake_imgs = generator.predict(noise)\n",
    "        \n",
    "        \n",
    "        # one sided label smoothing\n",
    "        real_y = np.ones((HALF_BATCH_SIZE,1))*0.9 #Label Smoothing, Works well in practice\n",
    "        fake_y = np.zeros((HALF_BATCH_SIZE,1))\n",
    "        \n",
    "        # train on real and fake images\n",
    "        d_loss_real = discriminator.train_on_batch(real_imgs,real_y) #updates the weights of discriminator\n",
    "        d_loss_fake = discriminator.train_on_batch(fake_imgs,fake_y) \n",
    "        d_loss = 0.5*d_loss_real + 0.5*d_loss_fake\n",
    "        \n",
    "        epoch_d_loss += d_loss\n",
    "        \n",
    "        \n",
    "        #Train Generator (Complete Model Generator + Frozen Discriminator)\n",
    "        \n",
    "        noise = np.random.normal(0,1,size=(BATCH_SIZE,NOISE_DIM))\n",
    "        real_y = np.ones((BATCH_SIZE,1))\n",
    "        g_loss = model.train_on_batch(noise,real_y)\n",
    "        epoch_g_loss += g_loss\n",
    "        \n",
    "    print(\"Epoch %d D loss: %f G loss: %f\" % ((epoch + 1), epoch_d_loss, epoch_g_loss))\n",
    "\n",
    "    if (epoch+1)%10==0:\n",
    "        generator.save('models/gan_generator_{0}.h5'.format(epoch+1))\n",
    "        save_imgs(epoch)\n",
    "       "
   ]
  },
  {
   "cell_type": "code",
   "execution_count": null,
   "id": "polished-variety",
   "metadata": {},
   "outputs": [],
   "source": []
  }
 ],
 "metadata": {
  "kernelspec": {
   "display_name": "Python 3",
   "language": "python",
   "name": "python3"
  },
  "language_info": {
   "codemirror_mode": {
    "name": "ipython",
    "version": 3
   },
   "file_extension": ".py",
   "mimetype": "text/x-python",
   "name": "python",
   "nbconvert_exporter": "python",
   "pygments_lexer": "ipython3",
   "version": "3.8.3"
  }
 },
 "nbformat": 4,
 "nbformat_minor": 5
}
