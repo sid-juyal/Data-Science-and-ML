{
 "cells": [
  {
   "cell_type": "code",
   "execution_count": 1,
   "id": "spectacular-designation",
   "metadata": {},
   "outputs": [
    {
     "name": "stdout",
     "output_type": "stream",
     "text": [
      "Hello\n"
     ]
    }
   ],
   "source": [
    "print(\"Hello\")"
   ]
  },
  {
   "cell_type": "code",
   "execution_count": 1,
   "id": "tight-yeast",
   "metadata": {},
   "outputs": [
    {
     "data": {
      "text/plain": [
       "2.0"
      ]
     },
     "execution_count": 1,
     "metadata": {},
     "output_type": "execute_result"
    }
   ],
   "source": [
    "10/5\n",
    "# shortcut: escape,a  :  for inserting a cell above current cell\n",
    "# shortcut: escape,b  :  for inserting a cell below current cell\n",
    "# shortcut: escape,dd  :  for deleting the current cell"
   ]
  },
  {
   "cell_type": "code",
   "execution_count": 3,
   "id": "widespread-filing",
   "metadata": {},
   "outputs": [
    {
     "name": "stdout",
     "output_type": "stream",
     "text": [
      "15\n"
     ]
    }
   ],
   "source": [
    "a=5\n",
    "b=3\n",
    "print(a*b)"
   ]
  },
  {
   "cell_type": "markdown",
   "id": "neutral-sponsorship",
   "metadata": {},
   "source": [
    "## Heading\n",
    "### Topics:\n",
    "- A\n",
    "- B\n",
    "- C\n",
    "\n",
    "Shortcut: escape,M,shift+enter   :  to convert code cell into markdown(text cell)"
   ]
  },
  {
   "cell_type": "code",
   "execution_count": 4,
   "id": "working-fundamentals",
   "metadata": {},
   "outputs": [
    {
     "name": "stdout",
     "output_type": "stream",
     "text": [
      "Hi\n"
     ]
    }
   ],
   "source": [
    "print(\"Hi\")\n",
    "\n",
    "# Shortcut: escape,Y,shift+enter   :   to convert text cell to code cell and get the output of the cell."
   ]
  },
  {
   "cell_type": "code",
   "execution_count": 1,
   "id": "greater-murder",
   "metadata": {},
   "outputs": [
    {
     "data": {
      "text/plain": [
       "3.3333333333333335"
      ]
     },
     "execution_count": 1,
     "metadata": {},
     "output_type": "execute_result"
    }
   ],
   "source": [
    "10/3"
   ]
  },
  {
   "cell_type": "code",
   "execution_count": 9,
   "id": "desirable-makeup",
   "metadata": {},
   "outputs": [],
   "source": [
    "a=\"Siddharth\"\n",
    "b=2\n",
    "c=3\n",
    "d=1"
   ]
  },
  {
   "cell_type": "code",
   "execution_count": 10,
   "id": "hearing-pearl",
   "metadata": {},
   "outputs": [
    {
     "name": "stdout",
     "output_type": "stream",
     "text": [
      "1-2-3\n"
     ]
    }
   ],
   "source": [
    "print(\"%d-%d-%d\" %(d,b,c))\n",
    "#strictly for integers"
   ]
  },
  {
   "cell_type": "code",
   "execution_count": 15,
   "id": "naked-negotiation",
   "metadata": {},
   "outputs": [
    {
     "name": "stdout",
     "output_type": "stream",
     "text": [
      "Siddharth-2-3\n"
     ]
    }
   ],
   "source": [
    "print(\"{}-{}-{}\".format(a,b,c))\n",
    "#can include string as well"
   ]
  },
  {
   "cell_type": "code",
   "execution_count": 16,
   "id": "comfortable-municipality",
   "metadata": {},
   "outputs": [
    {
     "name": "stdout",
     "output_type": "stream",
     "text": [
      "2-Siddharth-3\n"
     ]
    }
   ],
   "source": [
    "print(\"{1}-{0}-{2}\".format(a,b,c))\n",
    "#can include string as well"
   ]
  },
  {
   "cell_type": "code",
   "execution_count": 17,
   "id": "polar-portfolio",
   "metadata": {},
   "outputs": [
    {
     "name": "stdout",
     "output_type": "stream",
     "text": [
      "Golu, Maharaj\n"
     ]
    }
   ],
   "source": [
    "print(\"{firstname}, {lastname}\".format(firstname=\"Golu\", lastname=\"Maharaj\"))"
   ]
  },
  {
   "cell_type": "code",
   "execution_count": 12,
   "id": "united-capture",
   "metadata": {},
   "outputs": [],
   "source": [
    "first_name=\"Sid\"\n",
    "last_name=\"Juyal\""
   ]
  },
  {
   "cell_type": "code",
   "execution_count": 14,
   "id": "aggregate-western",
   "metadata": {},
   "outputs": [
    {
     "name": "stdout",
     "output_type": "stream",
     "text": [
      "Sid, Juyal\n"
     ]
    }
   ],
   "source": [
    "print(f\"{first_name}, {last_name}\")"
   ]
  },
  {
   "cell_type": "code",
   "execution_count": 18,
   "id": "confident-gibson",
   "metadata": {},
   "outputs": [
    {
     "name": "stdout",
     "output_type": "stream",
     "text": [
      "1 2 3 4 5 6 7 8\n"
     ]
    }
   ],
   "source": [
    "a=input()"
   ]
  },
  {
   "cell_type": "code",
   "execution_count": 19,
   "id": "tough-acquisition",
   "metadata": {},
   "outputs": [
    {
     "data": {
      "text/plain": [
       "'1 2 3 4 5 6 7 8'"
      ]
     },
     "execution_count": 19,
     "metadata": {},
     "output_type": "execute_result"
    }
   ],
   "source": [
    "a"
   ]
  },
  {
   "cell_type": "code",
   "execution_count": 20,
   "id": "metric-uniform",
   "metadata": {},
   "outputs": [
    {
     "data": {
      "text/plain": [
       "['1', '2', '3', '4', '5', '6', '7', '8']"
      ]
     },
     "execution_count": 20,
     "metadata": {},
     "output_type": "execute_result"
    }
   ],
   "source": [
    "a.split()"
   ]
  },
  {
   "cell_type": "code",
   "execution_count": 21,
   "id": "essential-denial",
   "metadata": {},
   "outputs": [],
   "source": [
    "z=\"YOYO\""
   ]
  },
  {
   "cell_type": "code",
   "execution_count": 22,
   "id": "classical-oxygen",
   "metadata": {},
   "outputs": [
    {
     "data": {
      "text/plain": [
       "'LOLO'"
      ]
     },
     "execution_count": 22,
     "metadata": {},
     "output_type": "execute_result"
    }
   ],
   "source": [
    "z.replace(\"Y\",\"L\")"
   ]
  },
  {
   "cell_type": "code",
   "execution_count": 24,
   "id": "egyptian-interest",
   "metadata": {},
   "outputs": [
    {
     "data": {
      "text/plain": [
       "'MOMO'"
      ]
     },
     "execution_count": 24,
     "metadata": {},
     "output_type": "execute_result"
    }
   ],
   "source": [
    "z.replace(\"Y\",\"M\")"
   ]
  },
  {
   "cell_type": "code",
   "execution_count": 25,
   "id": "revised-gilbert",
   "metadata": {},
   "outputs": [],
   "source": [
    "aa=\"aaaabbbcccbbbbcccddd\""
   ]
  },
  {
   "cell_type": "code",
   "execution_count": 29,
   "id": "charming-backing",
   "metadata": {},
   "outputs": [
    {
     "data": {
      "text/plain": [
       "7"
      ]
     },
     "execution_count": 29,
     "metadata": {},
     "output_type": "execute_result"
    }
   ],
   "source": [
    "aa.count(\"b\")\n"
   ]
  },
  {
   "cell_type": "code",
   "execution_count": 30,
   "id": "endangered-excerpt",
   "metadata": {},
   "outputs": [
    {
     "data": {
      "text/plain": [
       "1"
      ]
     },
     "execution_count": 30,
     "metadata": {},
     "output_type": "execute_result"
    }
   ],
   "source": [
    "aa.count(\"dd\")"
   ]
  },
  {
   "cell_type": "code",
   "execution_count": 35,
   "id": "earlier-denmark",
   "metadata": {},
   "outputs": [],
   "source": [
    "detail={\n",
    "    \"Name\":\"Sid\",\n",
    "    \"Age\":20,\n",
    "    \"CGPA\":9.06,\n",
    "    \"Subjects\":[\"AI\",\"ML\",\"OS\",\"DBMS\",\"CN\"],\n",
    "    \"Friends\":{\n",
    "        \"raju\":\"hostel\",\n",
    "        \"shikhar\":\"class\"\n",
    "    }\n",
    "}"
   ]
  },
  {
   "cell_type": "code",
   "execution_count": 36,
   "id": "mechanical-zoning",
   "metadata": {},
   "outputs": [
    {
     "data": {
      "text/plain": [
       "{'raju': 'hostel', 'shikhar': 'class'}"
      ]
     },
     "execution_count": 36,
     "metadata": {},
     "output_type": "execute_result"
    }
   ],
   "source": [
    "detail[\"Friends\"]"
   ]
  },
  {
   "cell_type": "code",
   "execution_count": 37,
   "id": "complicated-reynolds",
   "metadata": {},
   "outputs": [
    {
     "data": {
      "text/plain": [
       "['AI', 'ML', 'OS', 'DBMS', 'CN']"
      ]
     },
     "execution_count": 37,
     "metadata": {},
     "output_type": "execute_result"
    }
   ],
   "source": [
    "detail[\"Subjects\"]"
   ]
  },
  {
   "cell_type": "code",
   "execution_count": 38,
   "id": "advance-discipline",
   "metadata": {},
   "outputs": [
    {
     "name": "stdout",
     "output_type": "stream",
     "text": [
      "Name => Sid\n",
      "Age => 20\n",
      "CGPA => 9.06\n",
      "Subjects => ['AI', 'ML', 'OS', 'DBMS', 'CN']\n",
      "Friends => {'raju': 'hostel', 'shikhar': 'class'}\n"
     ]
    }
   ],
   "source": [
    "for key,value in detail.items():\n",
    "    print(key,\"=>\",value)"
   ]
  },
  {
   "cell_type": "markdown",
   "id": "classified-structure",
   "metadata": {},
   "source": []
  },
  {
   "cell_type": "markdown",
   "id": "moderate-oklahoma",
   "metadata": {},
   "source": [
    "# OOPS\n"
   ]
  },
  {
   "cell_type": "code",
   "execution_count": 4,
   "id": "studied-rhythm",
   "metadata": {},
   "outputs": [
    {
     "name": "stdout",
     "output_type": "stream",
     "text": [
      "Hello, my name is - Siddharth\n",
      "Hello, my name is - Siddharth\n"
     ]
    }
   ],
   "source": [
    "class Person:\n",
    "    name=\"Siddharth\"\n",
    "    def say_hi(self):\n",
    "        print(\"Hello, my name is -\",self.name)\n",
    "\n",
    "p=Person()\n",
    "p.say_hi()\n",
    "Person.say_hi(p)"
   ]
  },
  {
   "cell_type": "code",
   "execution_count": 11,
   "id": "employed-chambers",
   "metadata": {},
   "outputs": [],
   "source": [
    "class Ostream:\n",
    "    def __lshift__(self,other):\n",
    "        print(other,end='')\n",
    "        return self\n",
    "    \n",
    "cout=Ostream()"
   ]
  },
  {
   "cell_type": "code",
   "execution_count": 12,
   "id": "enormous-oxide",
   "metadata": {},
   "outputs": [
    {
     "name": "stdout",
     "output_type": "stream",
     "text": [
      "SidJuyal"
     ]
    },
    {
     "data": {
      "text/plain": [
       "<__main__.Ostream at 0x22d8b40f190>"
      ]
     },
     "execution_count": 12,
     "metadata": {},
     "output_type": "execute_result"
    }
   ],
   "source": [
    "cout<<\"Sid\"<<\"Juyal\""
   ]
  },
  {
   "cell_type": "code",
   "execution_count": null,
   "id": "broken-engagement",
   "metadata": {},
   "outputs": [],
   "source": []
  }
 ],
 "metadata": {
  "kernelspec": {
   "display_name": "Python 3",
   "language": "python",
   "name": "python3"
  },
  "language_info": {
   "codemirror_mode": {
    "name": "ipython",
    "version": 3
   },
   "file_extension": ".py",
   "mimetype": "text/x-python",
   "name": "python",
   "nbconvert_exporter": "python",
   "pygments_lexer": "ipython3",
   "version": "3.8.3"
  }
 },
 "nbformat": 4,
 "nbformat_minor": 5
}
