{
 "cells": [
  {
   "cell_type": "code",
   "execution_count": 1,
   "id": "sexual-joining",
   "metadata": {},
   "outputs": [
    {
     "name": "stdout",
     "output_type": "stream",
     "text": [
      "New Scrapy project 'MyProject', using template directory 'c:\\users\\siddharth\\python38\\lib\\site-packages\\scrapy\\templates\\project', created in:\n",
      "    C:\\Users\\SIDDHARTH\\desktop\\ML and Data Science\\MyProject\n",
      "\n",
      "You can start your first spider with:\n",
      "    cd MyProject\n",
      "    scrapy genspider example example.com\n"
     ]
    }
   ],
   "source": [
    "!scrapy startproject MyProject"
   ]
  },
  {
   "cell_type": "code",
   "execution_count": null,
   "id": "planned-mistake",
   "metadata": {},
   "outputs": [],
   "source": []
  }
 ],
 "metadata": {
  "kernelspec": {
   "display_name": "Python 3",
   "language": "python",
   "name": "python3"
  },
  "language_info": {
   "codemirror_mode": {
    "name": "ipython",
    "version": 3
   },
   "file_extension": ".py",
   "mimetype": "text/x-python",
   "name": "python",
   "nbconvert_exporter": "python",
   "pygments_lexer": "ipython3",
   "version": "3.8.3"
  }
 },
 "nbformat": 4,
 "nbformat_minor": 5
}
